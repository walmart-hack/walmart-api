{
 "cells": [
  {
   "cell_type": "code",
   "execution_count": 48,
   "metadata": {},
   "outputs": [],
   "source": [
    "from tensorflow.keras.models import load_model\n",
    "import tensorflow as tf\n",
    "from tensorflow.keras import layers\n",
    "\n",
    "import re\n",
    "import ast\n",
    "import string\n",
    "\n",
    "import numpy as np\n",
    "import pandas as pd\n",
    "import tensorflow as tf\n",
    "\n",
    "import plotly.express as px\n",
    "import matplotlib.pyplot as plt\n",
    "import plotly.graph_objects as go\n",
    "import plotly.figure_factory as ff\n",
    "\n",
    "\n",
    "from collections import Counter\n",
    "\n",
    "from sklearn.utils import resample\n",
    "from sklearn.metrics import confusion_matrix, classification_report\n",
    "from tensorflow.keras import layers\n",
    "from sklearn.model_selection import train_test_split"
   ]
  },
  {
   "cell_type": "code",
   "execution_count": 49,
   "metadata": {},
   "outputs": [
    {
     "data": {
      "text/html": [
       "<div>\n",
       "<style scoped>\n",
       "    .dataframe tbody tr th:only-of-type {\n",
       "        vertical-align: middle;\n",
       "    }\n",
       "\n",
       "    .dataframe tbody tr th {\n",
       "        vertical-align: top;\n",
       "    }\n",
       "\n",
       "    .dataframe thead th {\n",
       "        text-align: right;\n",
       "    }\n",
       "</style>\n",
       "<table border=\"1\" class=\"dataframe\">\n",
       "  <thead>\n",
       "    <tr style=\"text-align: right;\">\n",
       "      <th></th>\n",
       "      <th>product_id</th>\n",
       "      <th>title</th>\n",
       "      <th>vendor</th>\n",
       "      <th>tags</th>\n",
       "      <th>category</th>\n",
       "    </tr>\n",
       "  </thead>\n",
       "  <tbody>\n",
       "    <tr>\n",
       "      <th>0</th>\n",
       "      <td>3937721221199</td>\n",
       "      <td>Fidele Super Premium Adult Large Breed Dog Food</td>\n",
       "      <td>Fidele</td>\n",
       "      <td>['Adult', 'Bangalore', 'Chennai', 'Chicken', '...</td>\n",
       "      <td>Animals &amp; Pet Supplies</td>\n",
       "    </tr>\n",
       "    <tr>\n",
       "      <th>1</th>\n",
       "      <td>7353058033889</td>\n",
       "      <td>Foldable Pet Toys Linen Storage</td>\n",
       "      <td>Cap Point</td>\n",
       "      <td>[]</td>\n",
       "      <td>Animals &amp; Pet Supplies</td>\n",
       "    </tr>\n",
       "    <tr>\n",
       "      <th>2</th>\n",
       "      <td>6594773549129</td>\n",
       "      <td>Bok Dok Diaper</td>\n",
       "      <td>Pets Home</td>\n",
       "      <td>['Brand_Pet Arabia', 'Category_Pets Home', 'Ca...</td>\n",
       "      <td>Animals &amp; Pet Supplies</td>\n",
       "    </tr>\n",
       "    <tr>\n",
       "      <th>3</th>\n",
       "      <td>4802008318014</td>\n",
       "      <td>Tastybone Toy Chicken</td>\n",
       "      <td>TastyBone</td>\n",
       "      <td>[]</td>\n",
       "      <td>Animals &amp; Pet Supplies</td>\n",
       "    </tr>\n",
       "    <tr>\n",
       "      <th>4</th>\n",
       "      <td>1779705151539</td>\n",
       "      <td>Leather Leash Tab - Short Dog Leash</td>\n",
       "      <td>Mighty Paw</td>\n",
       "      <td>['Leash', 'Leash Tab', 'Training']</td>\n",
       "      <td>Animals &amp; Pet Supplies</td>\n",
       "    </tr>\n",
       "    <tr>\n",
       "      <th>...</th>\n",
       "      <td>...</td>\n",
       "      <td>...</td>\n",
       "      <td>...</td>\n",
       "      <td>...</td>\n",
       "      <td>...</td>\n",
       "    </tr>\n",
       "    <tr>\n",
       "      <th>5265</th>\n",
       "      <td>4637089464407</td>\n",
       "      <td>Candylab MOO Milk Van</td>\n",
       "      <td>Candylab</td>\n",
       "      <td>['3 Years +', 'candylab', 'Discount Products',...</td>\n",
       "      <td>Vehicles &amp; Parts</td>\n",
       "    </tr>\n",
       "    <tr>\n",
       "      <th>5266</th>\n",
       "      <td>4996632444987</td>\n",
       "      <td>Truck - Modern Era Vehicles -- Red, White -  S...</td>\n",
       "      <td>Woodland Scenics</td>\n",
       "      <td>['HO Scale', 'ho-scale-items', 'vehicles', 'wo...</td>\n",
       "      <td>Vehicles &amp; Parts</td>\n",
       "    </tr>\n",
       "    <tr>\n",
       "      <th>5267</th>\n",
       "      <td>5528541003927</td>\n",
       "      <td>Car Sticker Flags Decal American Flag Sticker for</td>\n",
       "      <td>Cyan Selene</td>\n",
       "      <td>['Other']</td>\n",
       "      <td>Vehicles &amp; Parts</td>\n",
       "    </tr>\n",
       "    <tr>\n",
       "      <th>5268</th>\n",
       "      <td>1395163889730</td>\n",
       "      <td>Lazer Helmets Bayamo Pit Bull - Full Face</td>\n",
       "      <td>OPEN BOX BARGAINS</td>\n",
       "      <td>['65061090', 'Antiscratch Pinlock Ready Visor'...</td>\n",
       "      <td>Vehicles &amp; Parts</td>\n",
       "    </tr>\n",
       "    <tr>\n",
       "      <th>5269</th>\n",
       "      <td>3535679324240</td>\n",
       "      <td>Deutz Agrotron Tractor</td>\n",
       "      <td>Siku</td>\n",
       "      <td>['$0 to $25', 'diecast-models', 'gift-finder',...</td>\n",
       "      <td>Vehicles &amp; Parts</td>\n",
       "    </tr>\n",
       "  </tbody>\n",
       "</table>\n",
       "<p>5270 rows × 5 columns</p>\n",
       "</div>"
      ],
      "text/plain": [
       "         product_id                                              title  \\\n",
       "0     3937721221199    Fidele Super Premium Adult Large Breed Dog Food   \n",
       "1     7353058033889                    Foldable Pet Toys Linen Storage   \n",
       "2     6594773549129                                     Bok Dok Diaper   \n",
       "3     4802008318014                              Tastybone Toy Chicken   \n",
       "4     1779705151539                Leather Leash Tab - Short Dog Leash   \n",
       "...             ...                                                ...   \n",
       "5265  4637089464407                              Candylab MOO Milk Van   \n",
       "5266  4996632444987  Truck - Modern Era Vehicles -- Red, White -  S...   \n",
       "5267  5528541003927  Car Sticker Flags Decal American Flag Sticker for   \n",
       "5268  1395163889730          Lazer Helmets Bayamo Pit Bull - Full Face   \n",
       "5269  3535679324240                             Deutz Agrotron Tractor   \n",
       "\n",
       "                 vendor                                               tags  \\\n",
       "0                Fidele  ['Adult', 'Bangalore', 'Chennai', 'Chicken', '...   \n",
       "1             Cap Point                                                 []   \n",
       "2             Pets Home  ['Brand_Pet Arabia', 'Category_Pets Home', 'Ca...   \n",
       "3             TastyBone                                                 []   \n",
       "4            Mighty Paw                 ['Leash', 'Leash Tab', 'Training']   \n",
       "...                 ...                                                ...   \n",
       "5265           Candylab  ['3 Years +', 'candylab', 'Discount Products',...   \n",
       "5266   Woodland Scenics  ['HO Scale', 'ho-scale-items', 'vehicles', 'wo...   \n",
       "5267        Cyan Selene                                          ['Other']   \n",
       "5268  OPEN BOX BARGAINS  ['65061090', 'Antiscratch Pinlock Ready Visor'...   \n",
       "5269               Siku  ['$0 to $25', 'diecast-models', 'gift-finder',...   \n",
       "\n",
       "                    category  \n",
       "0     Animals & Pet Supplies  \n",
       "1     Animals & Pet Supplies  \n",
       "2     Animals & Pet Supplies  \n",
       "3     Animals & Pet Supplies  \n",
       "4     Animals & Pet Supplies  \n",
       "...                      ...  \n",
       "5265        Vehicles & Parts  \n",
       "5266        Vehicles & Parts  \n",
       "5267        Vehicles & Parts  \n",
       "5268        Vehicles & Parts  \n",
       "5269        Vehicles & Parts  \n",
       "\n",
       "[5270 rows x 5 columns]"
      ]
     },
     "execution_count": 49,
     "metadata": {},
     "output_type": "execute_result"
    }
   ],
   "source": [
    "# reading the csv file as a dataframe\n",
    "df = pd.read_csv('data.csv')\n",
    "df"
   ]
  },
  {
   "cell_type": "code",
   "execution_count": 50,
   "metadata": {},
   "outputs": [],
   "source": [
    "# List of common stopwords\n",
    "stopwords = set([\n",
    "    \"a\", \"about\", \"above\", \"after\", \"again\", \"against\", \"all\", \"am\", \"an\", \"and\", \"any\", \"are\", \"as\", \"at\",\n",
    "    \"be\", \"because\", \"been\", \"before\", \"being\", \"below\", \"between\", \"both\", \"but\", \"by\", \"could\", \"did\", \"do\",\n",
    "    \"does\", \"doing\", \"down\", \"during\", \"each\", \"few\", \"for\", \"from\", \"further\", \"had\", \"has\", \"have\", \"having\",\n",
    "    \"he\", \"he'd\", \"he'll\", \"he's\", \"her\", \"here\", \"here's\", \"hers\", \"herself\", \"him\", \"himself\", \"his\", \"how\",\n",
    "    \"how's\", \"i\", \"i'd\", \"i'll\", \"i'm\", \"i've\", \"if\", \"in\", \"into\", \"is\", \"it\", \"it's\", \"its\", \"itself\", \"let's\", \n",
    "    \"me\", \"more\", \"most\", \"my\", \"myself\", \"nor\", \"of\", \"on\", \"once\", \"only\", \"or\", \"other\", \"ought\", \"our\", \"ours\", \n",
    "    \"ourselves\", \"out\", \"over\", \"own\", \"same\", \"she\", \"she'd\", \"she'll\", \"she's\", \"should\", \"so\", \"some\", \"such\",\n",
    "    \"than\", \"that\", \"that's\", \"the\", \"their\", \"theirs\", \"them\", \"themselves\", \"then\", \"there\", \"there's\", \"these\", \n",
    "    \"they\", \"they'd\", \"they'll\", \"they're\", \"they've\", \"this\", \"those\", \"through\", \"to\", \"too\", \"under\", \"until\", \n",
    "    \"up\", \"very\", \"was\", \"we\", \"we'd\", \"we'll\", \"we're\", \"we've\", \"were\", \"what\", \"what's\", \"when\", \"when's\", \"where\", \n",
    "    \"where's\", \"which\", \"while\", \"who\", \"who's\", \"whom\", \"why\", \"why's\", \"with\", \"would\", \"you\", \"you'd\", \"you'll\", \n",
    "    \"you're\", \"you've\", \"your\", \"yours\", \"yourself\", \"yourselves\"\n",
    "])\n",
    "\n",
    "# Tokenizing the titles and filtering stopwords\n",
    "words = []\n",
    "for title in df['title']:\n",
    "    # Tokenize and convert to lowercase\n",
    "    tokens = title.split()\n",
    "    tokens = [word.lower().strip(string.punctuation) for word in tokens]\n",
    "    words.extend(tokens)\n",
    "\n",
    "# Filter out stopwords\n",
    "filtered_words = [word for word in words if word not in stopwords and word]\n",
    "\n",
    "# Count the occurrences of each word\n",
    "word_counts = Counter(filtered_words)"
   ]
  },
  {
   "cell_type": "code",
   "execution_count": 51,
   "metadata": {},
   "outputs": [],
   "source": [
    "def text_extraction(dfi):\n",
    "    sentence = ' '.join([dfi['title'], str(dfi['vendor']), dfi['tags']])\n",
    "    sentence = re.sub('[^a-zA-Z0-9$.]', ' ', sentence)\n",
    "    sentence = re.sub(r\"\\s+[a-zA-Z]\\s+\", ' ', sentence)\n",
    "    sentence = re.sub(r'\\s+', ' ', sentence)\n",
    "    sentence = sentence.lower()\n",
    "    return sentence"
   ]
  },
  {
   "cell_type": "code",
   "execution_count": 52,
   "metadata": {},
   "outputs": [
    {
     "data": {
      "text/html": [
       "<div>\n",
       "<style scoped>\n",
       "    .dataframe tbody tr th:only-of-type {\n",
       "        vertical-align: middle;\n",
       "    }\n",
       "\n",
       "    .dataframe tbody tr th {\n",
       "        vertical-align: top;\n",
       "    }\n",
       "\n",
       "    .dataframe thead th {\n",
       "        text-align: right;\n",
       "    }\n",
       "</style>\n",
       "<table border=\"1\" class=\"dataframe\">\n",
       "  <thead>\n",
       "    <tr style=\"text-align: right;\">\n",
       "      <th></th>\n",
       "      <th>text</th>\n",
       "      <th>label</th>\n",
       "      <th>label_int</th>\n",
       "    </tr>\n",
       "  </thead>\n",
       "  <tbody>\n",
       "    <tr>\n",
       "      <th>0</th>\n",
       "      <td>fidele super premium adult large breed dog foo...</td>\n",
       "      <td>Animals &amp; Pet Supplies</td>\n",
       "      <td>0</td>\n",
       "    </tr>\n",
       "    <tr>\n",
       "      <th>1</th>\n",
       "      <td>foldable pet toys linen storage cap point</td>\n",
       "      <td>Animals &amp; Pet Supplies</td>\n",
       "      <td>0</td>\n",
       "    </tr>\n",
       "    <tr>\n",
       "      <th>2</th>\n",
       "      <td>bok dok diaper pets home brand pet arabia cate...</td>\n",
       "      <td>Animals &amp; Pet Supplies</td>\n",
       "      <td>0</td>\n",
       "    </tr>\n",
       "    <tr>\n",
       "      <th>3</th>\n",
       "      <td>tastybone toy chicken tastybone</td>\n",
       "      <td>Animals &amp; Pet Supplies</td>\n",
       "      <td>0</td>\n",
       "    </tr>\n",
       "    <tr>\n",
       "      <th>4</th>\n",
       "      <td>leather leash tab short dog leash mighty paw l...</td>\n",
       "      <td>Animals &amp; Pet Supplies</td>\n",
       "      <td>0</td>\n",
       "    </tr>\n",
       "    <tr>\n",
       "      <th>...</th>\n",
       "      <td>...</td>\n",
       "      <td>...</td>\n",
       "      <td>...</td>\n",
       "    </tr>\n",
       "    <tr>\n",
       "      <th>5265</th>\n",
       "      <td>candylab moo milk van candylab 3 years candyla...</td>\n",
       "      <td>Vehicles &amp; Parts</td>\n",
       "      <td>19</td>\n",
       "    </tr>\n",
       "    <tr>\n",
       "      <th>5266</th>\n",
       "      <td>truck modern era vehicles red white scale ho w...</td>\n",
       "      <td>Vehicles &amp; Parts</td>\n",
       "      <td>19</td>\n",
       "    </tr>\n",
       "    <tr>\n",
       "      <th>5267</th>\n",
       "      <td>car sticker flags decal american flag sticker ...</td>\n",
       "      <td>Vehicles &amp; Parts</td>\n",
       "      <td>19</td>\n",
       "    </tr>\n",
       "    <tr>\n",
       "      <th>5268</th>\n",
       "      <td>lazer helmets bayamo pit bull full face open b...</td>\n",
       "      <td>Vehicles &amp; Parts</td>\n",
       "      <td>19</td>\n",
       "    </tr>\n",
       "    <tr>\n",
       "      <th>5269</th>\n",
       "      <td>deutz agrotron tractor siku $0 to $25 diecast ...</td>\n",
       "      <td>Vehicles &amp; Parts</td>\n",
       "      <td>19</td>\n",
       "    </tr>\n",
       "  </tbody>\n",
       "</table>\n",
       "<p>5270 rows × 3 columns</p>\n",
       "</div>"
      ],
      "text/plain": [
       "                                                   text  \\\n",
       "0     fidele super premium adult large breed dog foo...   \n",
       "1            foldable pet toys linen storage cap point    \n",
       "2     bok dok diaper pets home brand pet arabia cate...   \n",
       "3                      tastybone toy chicken tastybone    \n",
       "4     leather leash tab short dog leash mighty paw l...   \n",
       "...                                                 ...   \n",
       "5265  candylab moo milk van candylab 3 years candyla...   \n",
       "5266  truck modern era vehicles red white scale ho w...   \n",
       "5267  car sticker flags decal american flag sticker ...   \n",
       "5268  lazer helmets bayamo pit bull full face open b...   \n",
       "5269  deutz agrotron tractor siku $0 to $25 diecast ...   \n",
       "\n",
       "                       label  label_int  \n",
       "0     Animals & Pet Supplies          0  \n",
       "1     Animals & Pet Supplies          0  \n",
       "2     Animals & Pet Supplies          0  \n",
       "3     Animals & Pet Supplies          0  \n",
       "4     Animals & Pet Supplies          0  \n",
       "...                      ...        ...  \n",
       "5265        Vehicles & Parts         19  \n",
       "5266        Vehicles & Parts         19  \n",
       "5267        Vehicles & Parts         19  \n",
       "5268        Vehicles & Parts         19  \n",
       "5269        Vehicles & Parts         19  \n",
       "\n",
       "[5270 rows x 3 columns]"
      ]
     },
     "execution_count": 52,
     "metadata": {},
     "output_type": "execute_result"
    }
   ],
   "source": [
    "# creating the dataset\n",
    "rows = [{'text': text_extraction(df.iloc[i]), 'label': df.iloc[i]['category']} for i in range(len(df))]\n",
    "dataset = pd.DataFrame(rows)\n",
    "\n",
    "\n",
    "# creating integer labels for multiclass training\n",
    "dataset['label_int'] = pd.Categorical(dataset['label']).codes\n",
    "dataset"
   ]
  },
  {
   "cell_type": "code",
   "execution_count": 53,
   "metadata": {},
   "outputs": [
    {
     "data": {
      "text/plain": [
       "['Animals & Pet Supplies',\n",
       " 'Apparel & Accessories',\n",
       " 'Arts & Entertainment',\n",
       " 'Baby & Toddler',\n",
       " 'Business & Industrial',\n",
       " 'Cameras & Optics',\n",
       " 'Electronics',\n",
       " 'Food, Beverages & Tobacco',\n",
       " 'Furniture',\n",
       " 'Hardware',\n",
       " 'Health & Beauty',\n",
       " 'Home & Garden',\n",
       " 'Luggage & Bags',\n",
       " 'Media',\n",
       " 'Office Supplies',\n",
       " 'Religious & Ceremonial',\n",
       " 'Software',\n",
       " 'Sporting Goods',\n",
       " 'Toys & Games',\n",
       " 'Vehicles & Parts']"
      ]
     },
     "execution_count": 53,
     "metadata": {},
     "output_type": "execute_result"
    }
   ],
   "source": [
    "# extracting the names of the labels\n",
    "labels_names = list(Counter(dataset['label']).keys())\n",
    "labels_names"
   ]
  },
  {
   "cell_type": "code",
   "execution_count": 54,
   "metadata": {},
   "outputs": [
    {
     "name": "stdout",
     "output_type": "stream",
     "text": [
      "Label 0 corresponds to Animals & Pet Supplies\n",
      "Label 1 corresponds to Apparel & Accessories\n",
      "Label 2 corresponds to Arts & Entertainment\n",
      "Label 3 corresponds to Baby & Toddler\n",
      "Label 4 corresponds to Business & Industrial\n",
      "Label 5 corresponds to Cameras & Optics\n",
      "Label 6 corresponds to Electronics\n",
      "Label 7 corresponds to Food, Beverages & Tobacco\n",
      "Label 8 corresponds to Furniture\n",
      "Label 9 corresponds to Hardware\n",
      "Label 10 corresponds to Health & Beauty\n",
      "Label 11 corresponds to Home & Garden\n",
      "Label 12 corresponds to Luggage & Bags\n",
      "Label 13 corresponds to Media\n",
      "Label 14 corresponds to Office Supplies\n",
      "Label 15 corresponds to Religious & Ceremonial\n",
      "Label 16 corresponds to Software\n",
      "Label 17 corresponds to Sporting Goods\n",
      "Label 18 corresponds to Toys & Games\n",
      "Label 19 corresponds to Vehicles & Parts\n"
     ]
    }
   ],
   "source": [
    "# printing each integer label and its corresponding name label\n",
    "for i, label in enumerate(labels_names):\n",
    "    print(\"Label\", i, \"corresponds to\", label)"
   ]
  },
  {
   "cell_type": "code",
   "execution_count": 55,
   "metadata": {},
   "outputs": [
    {
     "data": {
      "text/plain": [
       "1000"
      ]
     },
     "execution_count": 55,
     "metadata": {},
     "output_type": "execute_result"
    }
   ],
   "source": [
    "max_samples = dataset['label'].value_counts().max()\n",
    "max_samples"
   ]
  },
  {
   "cell_type": "code",
   "execution_count": 56,
   "metadata": {},
   "outputs": [],
   "source": [
    "balanced_data_list = []\n",
    "\n",
    "for class_name, group in dataset.groupby('label'):\n",
    "    if len(group) < max_samples:\n",
    "        upsampled_group = resample(group, \n",
    "                                   replace=True, \n",
    "                                   n_samples=max_samples, \n",
    "                                   random_state=42)\n",
    "    else:\n",
    "        upsampled_group = group\n",
    "\n",
    "    balanced_data_list.append(upsampled_group)\n",
    "\n",
    "balanced_data = pd.concat(balanced_data_list)"
   ]
  },
  {
   "cell_type": "code",
   "execution_count": 57,
   "metadata": {},
   "outputs": [],
   "source": [
    "# splitting dataset to train, validation, and test dataframes\n",
    "train_df, test_df= train_test_split(balanced_data, test_size=0.2, random_state=42)\n",
    "val_df = test_df.sample(frac=0.5)\n",
    "test_df.drop(val_df.index, inplace=True)"
   ]
  },
  {
   "cell_type": "code",
   "execution_count": 58,
   "metadata": {},
   "outputs": [],
   "source": [
    "# extracting texts and labels from dataframes\n",
    "train_texts = train_df['text']\n",
    "train_labels = train_df['label_int']\n",
    "val_texts = val_df['text']\n",
    "val_labels = val_df['label_int']\n",
    "test_texts = test_df['text']\n",
    "test_labels = test_df['label_int']"
   ]
  },
  {
   "cell_type": "code",
   "execution_count": 59,
   "metadata": {},
   "outputs": [],
   "source": [
    "batch_size = 32\n",
    "raw_train_batch = tf.data.Dataset.from_tensor_slices((train_texts, train_labels)).batch(batch_size)\n",
    "raw_val_batch = tf.data.Dataset.from_tensor_slices((val_texts, val_labels)).batch(batch_size)\n",
    "raw_test_batch = tf.data.Dataset.from_tensor_slices((test_texts, test_labels)).batch(batch_size)"
   ]
  },
  {
   "cell_type": "code",
   "execution_count": 60,
   "metadata": {},
   "outputs": [],
   "source": [
    "# setting the text vectorization layer with 20000 words and 320 sequence length\n",
    "max_features = 20000\n",
    "sequence_length = 320\n",
    "\n",
    "vectorize_layer = layers.TextVectorization(\n",
    "    max_tokens=max_features,\n",
    "    output_mode='int',\n",
    "    output_sequence_length=sequence_length)\n",
    "\n",
    "# fitting the state of the preprocessing layer to the train set. This will cause the model to build an index of strings to integers.\n",
    "vectorize_layer.adapt(train_texts)\n",
    "\n",
    "# defining the vectorize text function\n",
    "def vectorize_text(text, label):\n",
    "    text = tf.expand_dims(text, -1)\n",
    "    return vectorize_layer(text), label\n",
    "\n",
    "# retrieving a sample from a batch of texts and labels from the train set\n",
    "text_batch, label_batch = next(iter(raw_train_batch))\n",
    "first_review, first_label = text_batch[0], label_batch[0]"
   ]
  },
  {
   "cell_type": "code",
   "execution_count": 65,
   "metadata": {},
   "outputs": [
    {
     "name": "stderr",
     "output_type": "stream",
     "text": [
      "WARNING:absl:At this time, the v2.11+ optimizer `tf.keras.optimizers.Adam` runs slowly on M1/M2 Macs, please use the legacy Keras optimizer instead, located at `tf.keras.optimizers.legacy.Adam`.\n"
     ]
    }
   ],
   "source": [
    "model = load_model('product_category_model.h5')"
   ]
  },
  {
   "cell_type": "code",
   "execution_count": 66,
   "metadata": {},
   "outputs": [
    {
     "name": "stdout",
     "output_type": "stream",
     "text": [
      "1/1 [==============================] - 0s 22ms/step\n",
      "Title: 'stationery' --> Predicted Category: Office Supplies\n"
     ]
    }
   ],
   "source": [
    "\n",
    "def predict_category(title):\n",
    "    # Step 1: Preprocess the title\n",
    "    title = tf.expand_dims(title, -1)  # Expand dims to match the model's expected input\n",
    "    title_vectorized = vectorize_layer(title)  # Vectorize the input title\n",
    "    \n",
    "    predictions = model.predict(title_vectorized)\n",
    "    predicted_label = tf.argmax(predictions, axis=-1).numpy()[0]  # Get the predicted label index\n",
    "    \n",
    "    predicted_category = labels_names[predicted_label]\n",
    "    \n",
    "    return predicted_category\n",
    "\n",
    "# Example usage:\n",
    "custom_title = \"stationery\"\n",
    "predicted_category = predict_category(custom_title)\n",
    "print(f\"Title: '{custom_title}' --> Predicted Category: {predicted_category}\")"
   ]
  },
  {
   "cell_type": "markdown",
   "metadata": {},
   "source": [
    "### API Testing with User Input"
   ]
  },
  {
   "cell_type": "code",
   "execution_count": 71,
   "metadata": {},
   "outputs": [],
   "source": [
    "# item_list = input(\"Enter items list:\")\n",
    "item_list = ['pen', 'potatoes', 'stationery', 'fruit loops', 'shoes', 'dog food', 'chart paper']"
   ]
  },
  {
   "cell_type": "code",
   "execution_count": 72,
   "metadata": {},
   "outputs": [
    {
     "name": "stdout",
     "output_type": "stream",
     "text": [
      "1/1 [==============================] - 0s 11ms/step\n",
      "1/1 [==============================] - 0s 8ms/step\n",
      "1/1 [==============================] - 0s 8ms/step\n",
      "1/1 [==============================] - 0s 8ms/step\n",
      "1/1 [==============================] - 0s 7ms/step\n",
      "1/1 [==============================] - 0s 7ms/step\n",
      "1/1 [==============================] - 0s 8ms/step\n",
      "['Office Supplies', 'Food, Beverages & Tobacco', 'Office Supplies', 'Food, Beverages & Tobacco', 'Apparel & Accessories', 'Animals & Pet Supplies', 'Office Supplies']\n"
     ]
    }
   ],
   "source": [
    "prediction = []\n",
    "\n",
    "for item in item_list:\n",
    "    prediction.append(predict_category(item))\n",
    "\n",
    "print(prediction)"
   ]
  }
 ],
 "metadata": {
  "kernelspec": {
   "display_name": "base",
   "language": "python",
   "name": "python3"
  },
  "language_info": {
   "codemirror_mode": {
    "name": "ipython",
    "version": 3
   },
   "file_extension": ".py",
   "mimetype": "text/x-python",
   "name": "python",
   "nbconvert_exporter": "python",
   "pygments_lexer": "ipython3",
   "version": "3.11.9"
  }
 },
 "nbformat": 4,
 "nbformat_minor": 2
}
